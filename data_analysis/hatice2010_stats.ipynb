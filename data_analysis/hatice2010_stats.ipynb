{
 "cells": [
  {
   "cell_type": "code",
   "execution_count": null,
   "metadata": {},
   "outputs": [],
   "source": [
    "#######################################################################################################################\n",
    "# Project: Deep Virtual Rapport Agent (data analysis)\n",
    "#\n",
    "#     Jan Ondras (jo951030@gmail.com)\n",
    "#     Institute for Creative Technologies, University of Southern California\n",
    "#     April-October 2019\n",
    "#\n",
    "#######################################################################################################################\n",
    "# Analysis and statistics of the hatice2010 dataset\n",
    "#######################################################################################################################"
   ]
  },
  {
   "cell_type": "code",
   "execution_count": 1,
   "metadata": {
    "scrolled": false
   },
   "outputs": [],
   "source": [
    "#######################################################################################################################\n",
    "# Get histograms of head gesture durations\n",
    "#######################################################################################################################\n",
    "\n",
    "import os\n",
    "import numpy as np\n",
    "import glob\n",
    "import pandas as pd\n",
    "import scipy.signal\n",
    "import matplotlib.pyplot as plt\n",
    "from collections import defaultdict\n",
    "\n",
    "head_classes = [\n",
    "    'nod', \n",
    "    'shake', \n",
    "    'other'\n",
    "]\n",
    "\n",
    "hgs = defaultdict(list)\n",
    "\n",
    "for head_class in head_classes:\n",
    "    for csv_file in glob.glob('./../../datasets/hatice2010/listener_features/' + head_class + '/*.csv'):\n",
    "        df = pd.read_csv(csv_file)\n",
    "\n",
    "        d = float(df.tail(1)[' timestamp'])\n",
    "        \n",
    "        \n",
    "        hgs[head_class].append(d)\n",
    "        \n",
    "    "
   ]
  },
  {
   "cell_type": "code",
   "execution_count": 2,
   "metadata": {},
   "outputs": [
    {
     "name": "stdout",
     "output_type": "stream",
     "text": [
      "Mean: 1.2696818181818181\t Median: 1.18\n",
      "Min: 0.38\t Max: 5.282\n"
     ]
    },
    {
     "data": {
      "image/png": "[encoded data removed]",
      "text/plain": [
       "<Figure size 432x288 with 1 Axes>"
      ]
     },
     "metadata": {
      "needs_background": "light"
     },
     "output_type": "display_data"
    },
    {
     "name": "stdout",
     "output_type": "stream",
     "text": [
      "Mean: 1.058423076923077\t Median: 1.03\n",
      "Min: 0.3\t Max: 3.3810000000000002\n"
     ]
    },
    {
     "data": {
      "image/png": "[encoded data removed]",
      "text/plain": [
       "<Figure size 432x288 with 1 Axes>"
      ]
     },
     "metadata": {
      "needs_background": "light"
     },
     "output_type": "display_data"
    },
    {
     "name": "stdout",
     "output_type": "stream",
     "text": [
      "Mean: 5.656160000000001\t Median: 4.24\n",
      "Min: 1.84\t Max: 34.164\n"
     ]
    },
    {
     "data": {
      "image/png": "[encoded data removed]",
      "text/plain": [
       "<Figure size 432x288 with 1 Axes>"
      ]
     },
     "metadata": {
      "needs_background": "light"
     },
     "output_type": "display_data"
    }
   ],
   "source": [
    "bins_range = 100\n",
    "\n",
    "for k in hgs.keys():\n",
    "    print(f'Mean: {np.mean(hgs[k])}\\t Median: {np.median(hgs[k])}')\n",
    "    print(f'Min: {np.min(hgs[k])}\\t Max: {np.max(hgs[k])}')\n",
    "    # Save all durations for overall stats\n",
    "    np.savez(f'./gesture_durations/{k}_hatice2010', durations=hgs[k])\n",
    "    plt.figure()\n",
    "    plt.title(k)\n",
    "    plt.hist(hgs[k], bins=bins_range, label=f'total {k}: {len(hgs[k])}')\n",
    "    plt.xlabel('Duration (sec)')\n",
    "    plt.ylabel('Count')\n",
    "    plt.legend()\n",
    "    plt.show()\n"
   ]
  },
  {
   "cell_type": "code",
   "execution_count": 15,
   "metadata": {},
   "outputs": [
    {
     "name": "stdout",
     "output_type": "stream",
     "text": [
      "total duration of nod: 195.531 seconds\n",
      "total duration of shake: 110.076 seconds\n",
      "total duration of other: 141.40400000000002 seconds\n"
     ]
    }
   ],
   "source": [
    "for k in hgs.keys():\n",
    "    print(f\"total duration of {k}: {np.sum(hgs[k])} seconds\")"
   ]
  },
  {
   "cell_type": "markdown",
   "metadata": {},
   "source": [
    "## Investigate different subjects\n",
    "\n",
    "Used to manually identify subjects in the dataset (see deep-virtual-rapport-agent/head_gesture_detector/Report_head_gesture_detector.odt)."
   ]
  },
  {
   "cell_type": "code",
   "execution_count": 11,
   "metadata": {},
   "outputs": [
    {
     "name": "stdout",
     "output_type": "stream",
     "text": [
      "{'nod': {'2009.05.26.10.19.53_User', '2008.12.05.16.03.15_User', '2008.12.14.14.47.07_Operator', '2009.05.22.15.17.45_User', '2008.12.19.11.03.11_User', '2009.05.25.11.23.09_User', '2009.01.06.14.53.49_User', '2009.01.28.15.35.20_User', '2008.12.05.16.03.15_Operator', '2009.01.28.15.35.20_Operator', '2008.12.14.14.47.07_User'}, 'shake': {'2009.05.26.10.19.53_User', '2009.01.30.12.00.35_Operator', '2008.12.05.16.03.15_User', '2008.12.19.11.03.11_Operator', '2008.12.14.14.47.07_Operator', '2009.05.22.15.17.45_User', '2009.01.06.14.53.49_Operator', '2009.01.30.12.00.35_User', '2008.12.19.11.03.11_User', '2009.01.06.14.53.49_User', '2009.05.25.11.23.09_User', '2009.01.06.12.41.42_Operator', '2009.01.28.15.35.20_User', '2008.12.05.16.03.15_Operator', '2009.01.28.15.35.20_Operator', '2008.12.14.14.47.07_User'}}\n",
      "\n",
      "['2008.12.05.16.03.15_Operator', '2008.12.05.16.03.15_User', '2008.12.14.14.47.07_Operator', '2008.12.14.14.47.07_User', '2008.12.19.11.03.11_User', '2009.01.06.14.53.49_User', '2009.01.28.15.35.20_Operator', '2009.01.28.15.35.20_User', '2009.05.22.15.17.45_User', '2009.05.25.11.23.09_User', '2009.05.26.10.19.53_User']\n",
      "\n",
      "['2008.12.05.16.03.15_Operator', '2008.12.05.16.03.15_User', '2008.12.14.14.47.07_Operator', '2008.12.14.14.47.07_User', '2008.12.19.11.03.11_Operator', '2008.12.19.11.03.11_User', '2009.01.06.12.41.42_Operator', '2009.01.06.14.53.49_Operator', '2009.01.06.14.53.49_User', '2009.01.28.15.35.20_Operator', '2009.01.28.15.35.20_User', '2009.01.30.12.00.35_Operator', '2009.01.30.12.00.35_User', '2009.05.22.15.17.45_User', '2009.05.25.11.23.09_User', '2009.05.26.10.19.53_User']\n",
      "\n",
      "['2008.12.05.16.03.15_Operator', '2008.12.05.16.03.15_User', '2008.12.14.14.47.07_Operator', '2008.12.14.14.47.07_User', '2008.12.19.11.03.11_Operator', '2008.12.19.11.03.11_User', '2009.01.06.12.41.42_Operator', '2009.01.06.14.53.49_Operator', '2009.01.06.14.53.49_User', '2009.01.28.15.35.20_Operator', '2009.01.28.15.35.20_User', '2009.01.30.12.00.35_Operator', '2009.01.30.12.00.35_User', '2009.05.22.15.17.45_User', '2009.05.25.11.23.09_User', '2009.05.26.10.19.53_User']\n"
     ]
    }
   ],
   "source": [
    "import os\n",
    "import numpy as np\n",
    "import glob\n",
    "import pandas as pd\n",
    "import scipy.signal\n",
    "import matplotlib.pyplot as plt\n",
    "from collections import defaultdict\n",
    "\n",
    "head_classes = [\n",
    "    'nod', \n",
    "    'shake', \n",
    "    'other'\n",
    "]\n",
    "\n",
    "# Identifies session and Operator/User\n",
    "# E.g. 2009.01.28.15.35.20_Operator for 2009.01.28.15.35.20_Operator_AV_lowQ_sf21778_ef21878\n",
    "sessids = dict()\n",
    "sessids['nod'] = set()\n",
    "sessids['shake'] = set()\n",
    "\n",
    "# for head_class in head_classes:\n",
    "for head_class in ['nod', 'shake']:\n",
    "    for csv_file in glob.glob('./../../datasets/hatice2010/listener_features/' + head_class + '/*.csv'):\n",
    "#         print(csv_file.split('/')[-1].split('_')[:2])\n",
    "        sessid = '_'.join(csv_file.split('/')[-1].split('_')[:2])\n",
    "#         print(sessid)\n",
    "        sessids[head_class].add(sessid)\n",
    "        \n",
    "print(sessids)\n",
    "print()\n",
    "print(sorted(sessids['nod']))\n",
    "print()\n",
    "print(sorted(sessids['shake']))\n",
    "print()\n",
    "print(sorted(sessids['shake'].union(sessids['nod'])))"
   ]
  },
  {
   "cell_type": "code",
   "execution_count": null,
   "metadata": {},
   "outputs": [],
   "source": []
  }
 ],
 "metadata": {
  "kernelspec": {
   "display_name": "Python 3",
   "language": "python",
   "name": "python3"
  },
  "language_info": {
   "codemirror_mode": {
    "name": "ipython",
    "version": 2
   },
   "file_extension": ".py",
   "mimetype": "text/x-python",
   "name": "python",
   "nbconvert_exporter": "python",
   "pygments_lexer": "ipython2",
   "version": "2.7.12"
  }
 },
 "nbformat": 4,
 "nbformat_minor": 2
}
